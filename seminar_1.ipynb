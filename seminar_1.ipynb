{
  "nbformat": 4,
  "nbformat_minor": 0,
  "metadata": {
    "colab": {
      "provenance": []
    },
    "kernelspec": {
      "name": "python3",
      "display_name": "Python 3"
    },
    "language_info": {
      "name": "python"
    }
  },
  "cells": [
    {
      "cell_type": "markdown",
      "source": [
        "# Прокофьев Игорь Витальевич\n",
        "### Группа ДПИ22-1м\n",
        "### Вариант 1"
      ],
      "metadata": {
        "id": "BdVVmXZXyMWx"
      }
    },
    {
      "cell_type": "markdown",
      "source": [
        "1.\tНапишите программу, которая будет открывать определенный файл CSV и выводить на печать построчно последние 10 строк. Если в файле всего 10 и меньше строк, то нужно вывести только первую строчку."
      ],
      "metadata": {
        "id": "b2_3EiJi__y7"
      }
    },
    {
      "cell_type": "code",
      "source": [
        "import csv\n",
        "def reading_files(file_name):\n",
        "    # Создаем список, который будет хранить последние 10 строк файла\n",
        "    result = [None for i in range(10)]\n",
        "    with open(file_name, encoding='utf-8') as r_file:\n",
        "        # Создаем объект reader, указываем символ-разделитель \",\"\n",
        "        file_reader = csv.reader(r_file, delimiter = \",\")\n",
        "        # Счетчик для подсчета количества строк и вывода заголовков столбцов\n",
        "        count = 0\n",
        "        # Считывание данных из CSV файла\n",
        "        for row in file_reader:\n",
        "            # Сохраняем первую строку в переменную first_row\n",
        "            if count == 0:\n",
        "                first_row = row\n",
        "            # Сдвигаем все имеющиеся строки в списке последних 10 строк файла\n",
        "            for j in range(9):\n",
        "                result[j] = result[j + 1]\n",
        "            # Заносим новую строку в список последнийх 10 строк файла\n",
        "            result[9] = row\n",
        "            count += 1\n",
        "    # Выводим ответ согласно условию задачи\n",
        "    if count <= 10:\n",
        "        print(\", \".join(first_row))\n",
        "    else:\n",
        "        for row in result:\n",
        "            print(\", \".join(row))\n",
        "\n",
        "\n",
        "# Тестируем решение на нескольких файлах из тестового набора\n",
        "# https://campus.fa.ru/mod/folder/download_folder.php?id=351804\n",
        "\n",
        "file_names = ['addresses.csv',\n",
        "              'cities.csv',\n",
        "              'devices.csv',\n",
        "              'passengers.csv']\n",
        "\n",
        "for file_name in file_names:\n",
        "    print(f'Чтение файла {file_name}')\n",
        "    reading_files(file_name)\n",
        "    print()"
      ],
      "metadata": {
        "colab": {
          "base_uri": "https://localhost:8080/"
        },
        "id": "Uo4iXvsD6Jjv",
        "outputId": "423f17e9-700e-4797-ae16-b7e05a3815e9"
      },
      "execution_count": 1,
      "outputs": [
        {
          "output_type": "stream",
          "name": "stdout",
          "text": [
            "Чтение файла addresses.csv\n",
            "John, Doe, 120 jefferson st., Riverside,  NJ,  08075\n",
            "\n",
            "Чтение файла cities.csv\n",
            "   37,    32,    24,  \"N\",      77,    26,    59,  \"W\",  \"Richmond\",  VA\n",
            "   39,    49,    48,  \"N\",      84,    53,    23,  \"W\",  \"Richmond\",  IN\n",
            "   38,    46,    12,  \"N\",     112,     5,    23,  \"W\",  \"Richfield\",  UT\n",
            "   45,    38,    23,  \"N\",      89,    25,    11,  \"W\",  \"Rhinelander\",  WI\n",
            "   39,    31,    12,  \"N\",     119,    48,    35,  \"W\",  \"Reno\",  NV\n",
            "   50,    25,    11,  \"N\",     104,    39,     0,  \"W\",  \"Regina\",  SA\n",
            "   40,    10,    48,  \"N\",     122,    14,    23,  \"W\",  \"Red Bluff\",  CA\n",
            "   40,    19,    48,  \"N\",      75,    55,    48,  \"W\",  \"Reading\",  PA\n",
            "   41,     9,    35,  \"N\",      81,    14,    23,  \"W\",  \"Ravenna\",  OH \n",
            "\n",
            "\n",
            "Чтение файла devices.csv\n",
            "Телефоны, 23, 34, 234, 33, 66, 88, 22, 55, 22, 111, 103, 23\n",
            "Юг, 23, 44, 294, 33, 66, 238, 22, 55, 22, 161, 123, 23\n",
            "Канцтовары, 23, 44, 234, 33, 626, 88, 22, 55, 22, 111, 123, 83\n",
            "Цветочный, 23, 44, 234, 83, 6326, 88, 22, 55, 22, 111, 123, 63\n",
            "Семена, 23, 44, 234, 33, 66, 868, 22, 55, 22, 111, 123, 23\n",
            "Компьютеры, 23, 44, 564, 33, 6886, 88, 22, 55, 22, 111, 193, 23\n",
            "Еда, 23, 44, 234, 33, 66, 88, 22, 55, 22, 111, 123, 23\n",
            "Роботы, 23, 44, 234, 33, 66, 88, 24, 54, 22, 101, 123, 23\n",
            "Девайс, 57, 44, 224, 33, 66, 88, 22, 55, 22, 111, 123, 25\n",
            "Фикс, 23, 49, 234, 33, 66, 88, 22, 55, 22, 301, 123, 23\n",
            "\n",
            "Чтение файла passengers.csv\n",
            "4, 1953, 2700, 3343\n",
            "5, 1954, 2867, 3424\n",
            "6, 1955, 3408, 5444\n",
            "7, 1956, 3939, 2445\n",
            "8, 1957, 4421, 8444\n",
            "9, 1958, 4572, 9563\n",
            "10, 1959, 5140, 10774\n",
            "11, 1960, 5714, 3559\n",
            "12, 1961, 5814, 8544\n",
            "13, 1962, 6213, 1120012, 2460, 5814, 8544\n",
            "\n"
          ]
        }
      ]
    },
    {
      "cell_type": "markdown",
      "source": [],
      "metadata": {
        "id": "z8fzG6zwCqSc"
      }
    },
    {
      "cell_type": "markdown",
      "source": [
        "2.\tСоздать текстовый файл File_txt.txt. В него первой строкой записать свою группу, ФИО. Вторая строка – четные числа от 0 до 100. Числа должны быть разделены «;»."
      ],
      "metadata": {
        "id": "WN8VWuIgAjjU"
      }
    },
    {
      "cell_type": "code",
      "source": [
        "with open('File_txt.txt', mode=\"w\", encoding='utf-8') as w_file:\n",
        "    w_file.write('ДПИ22-1м, Прокофьев Игорь Витальевич\\n')\n",
        "    numbers = [i for i in range(100) if i % 2 == 0]\n",
        "    w_file.write(';'.join([str(i) for i in range(101) if i % 2 == 0]))"
      ],
      "metadata": {
        "id": "wfCG2dGx9xEL"
      },
      "execution_count": 2,
      "outputs": []
    },
    {
      "cell_type": "markdown",
      "source": [
        "3.\tНапишите функцию read_last(lines, file), которая будет открывать определенный файл file и выводить на печать построчно последние строки в количестве lines (на всякий случай проверим, что задано положительное целое число)."
      ],
      "metadata": {
        "id": "TGXOr19QCtNE"
      }
    },
    {
      "cell_type": "code",
      "source": [
        "def read_last(lines, file):\n",
        "    if type(lines) is not int or lines <= 0 :\n",
        "        print('Папаметр lines должен быть положительным целым числом')\n",
        "        return None\n",
        "    # Создаем список, который будет хранить последние n строк файла    \n",
        "    result = [None for i in range(lines)]\n",
        "    with open(file, encoding='utf-8') as r_file:\n",
        "        # Считывание данных из файла\n",
        "        for row in r_file:\n",
        "            # Сдвигаем все имеющиеся строки в списке последних n строк файла\n",
        "            row = row.strip()\n",
        "            for i in range(lines - 1):\n",
        "                result[i] = result[i + 1]\n",
        "                # Заносим новую строку в список последнийх n строк файла\n",
        "            result[lines - 1] = row\n",
        "    # Создаем список, который будет хранить последние n строк файла\n",
        "    for row in result:\n",
        "        # печатаем строки из списка (кроме пустых)\n",
        "        if row is not None:\n",
        "            print(row)\n",
        "        \n",
        "\n",
        "\n",
        "# Тестируем решение на нескольких файлах из тестового набора\n",
        "# https://campus.fa.ru/mod/folder/download_folder.php?id=351804\n",
        "\n",
        "file_names = ['sig0001.txt',\n",
        "              'Staff.txt',\n",
        "              'sig0001.txt',\n",
        "              'Staff.txt']\n",
        "lines_list = [2, 4, -7, '3']\n",
        "\n",
        "for values in zip(file_names, lines_list):\n",
        "    print(f'Чтение файла {values[0]}')\n",
        "    read_last(values[1], values[0])\n",
        "    print()"
      ],
      "metadata": {
        "colab": {
          "base_uri": "https://localhost:8080/"
        },
        "id": "YR2fFOR9Cwhj",
        "outputId": "8749783c-7d65-492f-d5ce-efc07a00495f"
      },
      "execution_count": 3,
      "outputs": [
        {
          "output_type": "stream",
          "name": "stdout",
          "text": [
            "Чтение файла sig0001.txt\n",
            "119,996\t0,0206925\t0,038053\t0,0124084\n",
            "119,998\t0,0411475\t0,0402743\t0,0236937\n",
            "\n",
            "Чтение файла Staff.txt\n",
            "203          Susan       Mavris      SMAVRIS     515.123.7777  9/28/1987   HR_REP      6500                        101         40\n",
            "204          Hermann     Baer        HBAER       515.123.8888  9/29/1987   PR_REP      10000                       101         70\n",
            "205          Shelley     Higgins     SHIGGINS    515.123.8080  9/30/1987   AC_MGR      12000                       101         110\n",
            "206          William     Gietz       WGIETZ      515.123.8181  10/1/1987   AC_ACCOUNT  8300                        205         110\n",
            "\n",
            "Чтение файла sig0001.txt\n",
            "Папаметр lines должен быть положительным целым числом\n",
            "\n",
            "Чтение файла Staff.txt\n",
            "Папаметр lines должен быть положительным целым числом\n",
            "\n"
          ]
        }
      ]
    },
    {
      "cell_type": "markdown",
      "source": [
        "4.\tИмеется документ «article.txt» содержит следующий текст:  \n",
        "*Вечерело  \n",
        "Жужжали мухи  \n",
        "Светил фонарик  \n",
        "Кипела вода в чайнике  \n",
        "Венера зажглась на небе  \n",
        "Деревья шумели  \n",
        "Тучи разошлись  \n",
        "Листва зеленела*\n",
        "\n",
        "Требуется реализовать функцию longest_words(file), которая выводит слово, имеющее максимальную длину (или список слов, если таковых несколько)."
      ],
      "metadata": {
        "id": "jy4Vf5j2N0n2"
      }
    },
    {
      "cell_type": "code",
      "source": [
        "# Создаем текстовый файл по условию задачи\n",
        "with open('article.txt', mode=\"w\", encoding='utf-8') as w_file:\n",
        "    w_file.write('Вечерело\\nЖужжали мухи\\nСветил фонарик\\nКипела вода в чайнике\\nВенера зажглась на небе\\nДеревья шумели\\nТучи разошлись\\nЛиства зеленела')\n",
        "\n",
        "\n",
        "def longest_words(file):\n",
        "    with open(file, encoding='utf-8') as r_file:\n",
        "        # Создаем список, в который будем добавлять все слова из файла\n",
        "        result = []\n",
        "        # Считывание данных из файла\n",
        "        for row in r_file:\n",
        "            # Каждую строку сразу разбиваем на слова (разделитель - пробелы)\n",
        "            row = row.strip().split()\n",
        "            result.extend(row)\n",
        "    # Выводим на печать самую длинную строку в списке\n",
        "    print(max(result, key=lambda string: len(string)))\n",
        "\n",
        "\n",
        "# Тестируем решение\n",
        "longest_words('article.txt')\n"
      ],
      "metadata": {
        "colab": {
          "base_uri": "https://localhost:8080/"
        },
        "id": "zbf_bwknFzh7",
        "outputId": "26517f69-7ebf-4fb7-8915-f919e234fc2b"
      },
      "execution_count": 4,
      "outputs": [
        {
          "output_type": "stream",
          "name": "stdout",
          "text": [
            "разошлись\n"
          ]
        }
      ]
    },
    {
      "cell_type": "markdown",
      "source": [
        "5.\tТребуется создать csv-файл «rows_300.csv» со следующими столбцами:\n",
        "– № - номер по порядку (от 1 до 300);\n",
        "– Секунда – текущая секунда на вашем ПК;\n",
        "–  Микросекунда – текущая миллисекунда на часах.\n",
        "На каждой итерации цикла искусственно приостанавливайте скрипт на 0,01 секунды."
      ],
      "metadata": {
        "id": "L20E-M74N-Jc"
      }
    },
    {
      "cell_type": "code",
      "source": [
        "import csv\n",
        "from datetime import datetime\n",
        "import time\n",
        "\n",
        "with open('rows_300.csv', mode='w', encoding='utf-8') as w_file:\n",
        "    # Создаем объект writer, указываем символ-разделитель \",\"\n",
        "    file_writer = csv.writer(w_file, delimiter = \",\", lineterminator=\"\\r\")\n",
        "    # Создаем заголовок таблицы\n",
        "    file_writer.writerow(['№', 'Секунда', 'Микросекунда'])\n",
        "    for i in range(300):\n",
        "        # Получаем текущее системное время\n",
        "        datetime_now = datetime.now()\n",
        "        # Записываем в таблицу соотвествующие атрибуты полученного времени\n",
        "        file_writer.writerow([i, datetime_now.second, datetime_now.microsecond])\n",
        "        # Искуственно приостанавливаем скрипт на необходимое время\n",
        "        time.sleep(0.01)"
      ],
      "metadata": {
        "id": "vDs_xMZUUcbF"
      },
      "execution_count": 5,
      "outputs": []
    }
  ]
}