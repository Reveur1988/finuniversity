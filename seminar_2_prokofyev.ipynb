{
  "nbformat": 4,
  "nbformat_minor": 0,
  "metadata": {
    "colab": {
      "provenance": []
    },
    "kernelspec": {
      "name": "python3",
      "display_name": "Python 3"
    },
    "language_info": {
      "name": "python"
    }
  },
  "cells": [
    {
      "cell_type": "markdown",
      "source": [
        "# Прокофьев Игорь Витальевич\n",
        "## Группа ДПИ22-1м\n",
        "## Семинар 2, вариант 1"
      ],
      "metadata": {
        "id": "smu0pNUffCOJ"
      }
    },
    {
      "cell_type": "markdown",
      "source": [
        "###Задание 1  \n",
        "\n",
        "Напишите программу, которая будет создавать БД SQLite, создавать в ней таблицу  и заносить данные. Всего – 10 записей  \n",
        "В конце работы нужно вывести данные из базы данных на экран.\n",
        "\n",
        "Название БД – Univer  \n",
        "Таблица - Students\n",
        "\n",
        "| ID | Name | City   | Count_Stud | Adress | Founding_date |\n",
        "| -- | ---- | -------| ----------: | ------ | ------------- |\n",
        "| 1  | МГУ  | Москва | 10000      | Москва, Ленинские горы, д. 1 | 1775 |\n",
        "| 2  | Финансовый Университет  | Москва | 7000      | Москва, Ленинградский проспект, 55 | 1919 |\n"
      ],
      "metadata": {
        "id": "l5yXXKBkqPhB"
      }
    },
    {
      "cell_type": "code",
      "execution_count": 1,
      "metadata": {
        "id": "iTLyXYP4e2JS"
      },
      "outputs": [],
      "source": [
        "# импортируем модуль субд, он будет использоваться также в следующих заданиях\n",
        "import sqlite3\n",
        "\n",
        "\n",
        "conn = sqlite3.connect('Univer.db')\n",
        "cur = conn.cursor()\n",
        "\n",
        "# почистим данные для избежания ошибок\n",
        "cur.execute('DROP TABLE IF EXISTS Students;')\n",
        "conn.commit()\n",
        "\n",
        "# создаем таблицу в соответствии с заданием 1\n",
        "cur.execute('''CREATE TABLE IF NOT EXISTS Students(\n",
        "   ID INT PRIMARY KEY,\n",
        "   Name TEXT,\n",
        "   City TEXT,\n",
        "   Count_Stud INTEGER,\n",
        "   Adress TEXT,\n",
        "   Founding_date INTEGER);\n",
        "''')\n",
        "conn.commit()\n",
        "\n",
        "# Список данных для таблицы\n",
        "univers_list = [('1', 'МГУ', 'Москва', '38150', 'Москва, Ленинские горы, д. 1', '1775'),\n",
        "                ('2', 'Финансовый Университет', 'Москва', '19863', 'Москва, Ленинградский проспект, 55', '1919'),\n",
        "                ('3', 'Алтайский государственный институт культуры', 'Барнаул', '1671', 'Алтайский край, Барнаул, ул. Юрина, д. 277', '1974'),\n",
        "                ('4', 'Балтийский федеральный университет имени Иммануила Канта', 'Москва', '10616', 'Калининградская область, Калининград, ул. Александра Невского, д. 14', '1947'),\n",
        "                ('5', 'Челябинский государственный университет', 'Челябинск', '15000', 'Челябинская область, Челябинск, ул. Братьев Кашириных, д. 129', '1976'),\n",
        "                ('6', 'Сибирский государственный университет геосистем и технологий', 'Новосибирск', '5290', 'Новосибирская область, Новосибирск, ул. Плахотного, д. 10', '1933'),\n",
        "                ('7', 'Казанский национальный исследовательский технологический университет', 'Казань', '18320', 'Республика Татарстан, Казань, ул. Карла Маркса, д. 68', '1890'),\n",
        "                ('8', 'Московский государственный университет геодезии и картографии', ' Москва', '3078', 'Москва, Гороховский пер., д. 4', '1779'),\n",
        "                ('9', 'Воронежский государственный университет', 'Воронеж', '18376', 'Воронежская область, Воронеж, Университетская пл., д. 1', '1918'),\n",
        "                ('10', 'Пятигорский государственный университет', 'Пятигорск', '5500', 'Ставропольский край, Пятигорск, пр-т Калинина, д. 9', '1939')                         \n",
        "]\n",
        "\n",
        "# Записываем данные в таблицу\n",
        "cur.executemany('INSERT INTO Students VALUES(?, ?, ?, ?, ?, ?);', univers_list)\n",
        "conn.commit()"
      ]
    },
    {
      "cell_type": "markdown",
      "source": [
        "Для красивого вывода в stdout результатов SQL-запроса напишем функцию на основе модуля для ascii таблиц  \n",
        "Эта функция пригодится нам и в следующих заданиях"
      ],
      "metadata": {
        "id": "0Wmn9CkCl9xd"
      }
    },
    {
      "cell_type": "code",
      "source": [
        "# Код для красиового вывода результатов SQL запроса на экран\n",
        "# Используется модуль для ascii таблиц PrettyTable\n",
        "\n",
        "from prettytable import PrettyTable\n",
        "def print_table(cur):\n",
        "    # Определяем шапку и данные.\n",
        "    th = list(map(lambda x: x[0], cur.description))\n",
        "    td_temp = cur.fetchall()\n",
        "    td = []\n",
        "    for value in td_temp:\n",
        "        td.extend(value)\n",
        "\n",
        "    columns = len(th)  # Подсчитаем кол-во столбцов на будущее.\n",
        "\n",
        "    table = PrettyTable(th)  # Определяем таблицу.\n",
        "\n",
        "    # Cкопируем список td, на случай если он будет использоваться в коде дальше.\n",
        "    td_data = td[:]\n",
        "    # Входим в цикл который заполняет нашу таблицу.\n",
        "    # Цикл будет выполняться до тех пор пока у нас не кончатся данные\n",
        "    # для заполнения строк таблицы (список td_data).\n",
        "    while td_data:\n",
        "        # Используя срез добавляем первые пять элементов в строку.\n",
        "        # (columns = 5).\n",
        "        table.add_row(td_data[:columns])\n",
        "        # Используя срез переопределяем td_data так, чтобы он\n",
        "        # больше не содержал первых 5 элементов.\n",
        "        td_data = td_data[columns:]\n",
        "\n",
        "    print(table)  # Печатаем таблицу\n",
        "\n",
        "def print_ascii_table(database, table):\n",
        "    conn = sqlite3.connect(database)\n",
        "    cur = conn.cursor()\n",
        "    cur.execute(f'SELECT * FROM {table}')\n",
        "    conn.commit()\n",
        "\n",
        "    print_table(cur)"
      ],
      "metadata": {
        "id": "x6QvWIGj28Yb"
      },
      "execution_count": 2,
      "outputs": []
    },
    {
      "cell_type": "code",
      "source": [
        "# Выводим результат задания 1\n",
        "\n",
        "conn = sqlite3.connect('Univer.db')\n",
        "cur = conn.cursor()\n",
        "cur.execute('SELECT * FROM Students;')\n",
        "conn.commit()\n",
        "\n",
        "print_table(cur)"
      ],
      "metadata": {
        "colab": {
          "base_uri": "https://localhost:8080/"
        },
        "id": "oIZXZ__U0UfO",
        "outputId": "0c4ccff3-a0ef-4b07-b5dc-c89b769fe5d9"
      },
      "execution_count": 3,
      "outputs": [
        {
          "output_type": "stream",
          "name": "stdout",
          "text": [
            "+----+----------------------------------------------------------------------+-------------+------------+----------------------------------------------------------------------+---------------+\n",
            "| ID |                                 Name                                 |     City    | Count_Stud |                                Adress                                | Founding_date |\n",
            "+----+----------------------------------------------------------------------+-------------+------------+----------------------------------------------------------------------+---------------+\n",
            "| 1  |                                 МГУ                                  |    Москва   |   38150    |                     Москва, Ленинские горы, д. 1                     |      1775     |\n",
            "| 2  |                        Финансовый Университет                        |    Москва   |   19863    |                  Москва, Ленинградский проспект, 55                  |      1919     |\n",
            "| 3  |             Алтайский государственный институт культуры              |   Барнаул   |    1671    |              Алтайский край, Барнаул, ул. Юрина, д. 277              |      1974     |\n",
            "| 4  |       Балтийский федеральный университет имени Иммануила Канта       |    Москва   |   10616    | Калининградская область, Калининград, ул. Александра Невского, д. 14 |      1947     |\n",
            "| 5  |               Челябинский государственный университет                |  Челябинск  |   15000    |    Челябинская область, Челябинск, ул. Братьев Кашириных, д. 129     |      1976     |\n",
            "| 6  |     Сибирский государственный университет геосистем и технологий     | Новосибирск |    5290    |      Новосибирская область, Новосибирск, ул. Плахотного, д. 10       |      1933     |\n",
            "| 7  | Казанский национальный исследовательский технологический университет |    Казань   |   18320    |        Республика Татарстан, Казань, ул. Карла Маркса, д. 68         |      1890     |\n",
            "| 8  |    Московский государственный университет геодезии и картографии     |    Москва   |    3078    |                    Москва, Гороховский пер., д. 4                    |      1779     |\n",
            "| 9  |               Воронежский государственный университет                |   Воронеж   |   18376    |       Воронежская область, Воронеж, Университетская пл., д. 1        |      1918     |\n",
            "| 10 |               Пятигорский государственный университет                |  Пятигорск  |    5500    |         Ставропольский край, Пятигорск, пр-т Калинина, д. 9          |      1939     |\n",
            "+----+----------------------------------------------------------------------+-------------+------------+----------------------------------------------------------------------+---------------+\n"
          ]
        }
      ]
    },
    {
      "cell_type": "markdown",
      "source": [
        "\n",
        "###Задание 2  \n",
        "\n",
        "Из файла addresses.csv считать данные, а затем – экспортировать их в базу данных SQLite.\n",
        "\n",
        "\n"
      ],
      "metadata": {
        "id": "dRUpmac0PUSM"
      }
    },
    {
      "cell_type": "code",
      "source": [
        "# https://campus.fa.ru/mod/folder/download_folder.php?id=351804\n",
        "# импортируем модуль csv, он будет использоваться также в следующих заданиях\n",
        "import csv\n",
        "\n",
        "def reading_files(file_name):\n",
        "    with open(file_name, encoding='utf-8') as r_file:\n",
        "        # Создаем объект reader, указываем символ-разделитель \",\"\n",
        "        file_reader = csv.reader(r_file, delimiter = \",\")\n",
        "        # Считывание данных из CSV файла\n",
        "        return [tuple(row) for row in file_reader]\n",
        "\n",
        "def prepare_heads(data, tbl):\n",
        "    # в файле задания отсутствуют заголовки, но мы возьмем первую строку в их качестве\n",
        "    # только заменим пробелы между словами символами '_'\n",
        "    # а если имя колонки начинается на цифру, ставим перед ней символ '_'\n",
        "    # также заменим все знаки пунктуации и прочие символы на '_'\n",
        "    heads_init = ['_'.join(name.strip().split()) + ' TEXT' for name in data[0]]\n",
        "    for i, col_name in enumerate(heads_init):\n",
        "        if col_name[0].isdigit():\n",
        "            heads_init[i] = '_' + col_name\n",
        "        tmp = ''\n",
        "        for smb in heads_init[i]:\n",
        "            if smb.isalnum() or smb in ('_', ' '):\n",
        "                tmp += smb\n",
        "            else:\n",
        "                tmp += '_'\n",
        "        heads_init[i] = tmp\n",
        "    heads_init = ', '.join(heads_init)\n",
        "\n",
        "    #подготавливаем текст SQL запроса на создание таблицы\n",
        "    stmt = f'CREATE TABLE IF NOT EXISTS {tbl}(ID INT PRIMARY KEY, {heads_init});'\n",
        "    return stmt\n",
        "\n",
        "def prepare_data(data, tbl):\n",
        "    # готовим список со строками таблицы для внесения в базу данных\n",
        "    rows = []\n",
        "    i = 1\n",
        "    for row in data[1:]:\n",
        "        rows.append((str(i), ) + row)\n",
        "        i += 1\n",
        "\n",
        "    # подготавливаем текст SQL запроса на внесение данных\n",
        "    num_col = len(data[0]) + 1\n",
        "    qm = ['?'] * num_col\n",
        "    stmt = f'INSERT INTO {tbl} VALUES(' + ', '.join(qm) + ');'\n",
        "\n",
        "    return stmt, rows\n",
        "\n",
        "def data_transfer(in_name, out_name, table_name):\n",
        "\n",
        "    data = reading_files(in_name)\n",
        "\n",
        "    # создаем базу данных\n",
        "    conn = sqlite3.connect(out_name)\n",
        "    cur = conn.cursor()\n",
        "\n",
        "    # почистим данные для избежания ошибок\n",
        "    cur.execute(f'DROP TABLE IF EXISTS {table_name};')\n",
        "    conn.commit()\n",
        "\n",
        "    # Таким образом создается таблица с таким же числом колонок как и в csv\n",
        "    # только названия исправляются в соотсветствии с требованиями\n",
        "    cur.execute(prepare_heads(data, table_name))\n",
        "    conn.commit()\n",
        "\n",
        "    # вносим значения в базу данных\n",
        "    cur.executemany(*prepare_data(data, table_name))\n",
        "    conn.commit()"
      ],
      "metadata": {
        "id": "p3EKDr3-0E0v"
      },
      "execution_count": 4,
      "outputs": []
    },
    {
      "cell_type": "code",
      "source": [
        "# Переносим данные\n",
        "data_transfer('addresses.csv', 'addresses.db', 'list')\n",
        "\n",
        "# Выводим результат задания 2\n",
        "print_ascii_table('addresses.db', 'list')"
      ],
      "metadata": {
        "colab": {
          "base_uri": "https://localhost:8080/"
        },
        "id": "8bnY1VMjYZ1w",
        "outputId": "431a0441-4e6e-4c86-e11e-9e4969bcf445"
      },
      "execution_count": 5,
      "outputs": [
        {
          "output_type": "stream",
          "name": "stdout",
          "text": [
            "+----+-----------------------+----------+----------------------------------+-------------+-----+--------+\n",
            "| ID |          John         |   Doe    |        _120_jefferson_st_        |  Riverside  |  NJ | _08075 |\n",
            "+----+-----------------------+----------+----------------------------------+-------------+-----+--------+\n",
            "| 1  |          Jack         | McGinnis |           220 hobo Av.           |    Phila    |  PA | 09119  |\n",
            "| 2  |     John \"Da Man\"     |  Repici  |        120 Jefferson St.         |  Riverside  |  NJ | 08075  |\n",
            "| 3  |        Stephen        |  Tyler   | 7452 Terrace \"At the Plaza\" road |   SomeTown  |  SD |  91234 |\n",
            "| 4  |                       | Blankman |                                  |   SomeTown  |  SD |  00298 |\n",
            "| 5  | Joan \"the bone\", Anne |   Jet    |       9th, at Terrace plc        | Desert City |  CO | 00123  |\n",
            "+----+-----------------------+----------+----------------------------------+-------------+-----+--------+\n"
          ]
        }
      ]
    },
    {
      "cell_type": "markdown",
      "source": [
        "###Задание 3  \n",
        "\n",
        "Открыть таблицу, созданную в Задании 1.  \n",
        "Выбрать из нее данные в соответствии с условием (университеты с количеством студентов больше 5000).  \n",
        "Эти данные вывести на экран.  \n",
        "Создать файл csv и сохранить выбранные данные в этот файл:  \n",
        "Сделать заголовки «Название», «Город», «Количество студентов» (только 3 столбца). Сохранить в файле соответствующие данные."
      ],
      "metadata": {
        "id": "c8oxnh2Wm91t"
      }
    },
    {
      "cell_type": "code",
      "source": [
        "# Выводим результат запроса согласно условию задания 3\n",
        "\n",
        "conn = sqlite3.connect('Univer.db')\n",
        "cur = conn.cursor()\n",
        "cur.execute('SELECT * FROM Students WHERE Count_Stud > 5000;')\n",
        "conn.commit()\n",
        "\n",
        "print_table(cur)"
      ],
      "metadata": {
        "colab": {
          "base_uri": "https://localhost:8080/"
        },
        "id": "8-OpSmZjnXAh",
        "outputId": "68b826d5-5b5e-4be4-ddd4-27117753264a"
      },
      "execution_count": 6,
      "outputs": [
        {
          "output_type": "stream",
          "name": "stdout",
          "text": [
            "+----+----------------------------------------------------------------------+-------------+------------+----------------------------------------------------------------------+---------------+\n",
            "| ID |                                 Name                                 |     City    | Count_Stud |                                Adress                                | Founding_date |\n",
            "+----+----------------------------------------------------------------------+-------------+------------+----------------------------------------------------------------------+---------------+\n",
            "| 1  |                                 МГУ                                  |    Москва   |   38150    |                     Москва, Ленинские горы, д. 1                     |      1775     |\n",
            "| 2  |                        Финансовый Университет                        |    Москва   |   19863    |                  Москва, Ленинградский проспект, 55                  |      1919     |\n",
            "| 4  |       Балтийский федеральный университет имени Иммануила Канта       |    Москва   |   10616    | Калининградская область, Калининград, ул. Александра Невского, д. 14 |      1947     |\n",
            "| 5  |               Челябинский государственный университет                |  Челябинск  |   15000    |    Челябинская область, Челябинск, ул. Братьев Кашириных, д. 129     |      1976     |\n",
            "| 6  |     Сибирский государственный университет геосистем и технологий     | Новосибирск |    5290    |      Новосибирская область, Новосибирск, ул. Плахотного, д. 10       |      1933     |\n",
            "| 7  | Казанский национальный исследовательский технологический университет |    Казань   |   18320    |        Республика Татарстан, Казань, ул. Карла Маркса, д. 68         |      1890     |\n",
            "| 9  |               Воронежский государственный университет                |   Воронеж   |   18376    |       Воронежская область, Воронеж, Университетская пл., д. 1        |      1918     |\n",
            "| 10 |               Пятигорский государственный университет                |  Пятигорск  |    5500    |         Ставропольский край, Пятигорск, пр-т Калинина, д. 9          |      1939     |\n",
            "+----+----------------------------------------------------------------------+-------------+------------+----------------------------------------------------------------------+---------------+\n"
          ]
        }
      ]
    },
    {
      "cell_type": "code",
      "source": [
        "# Теперь уточняем предыдущий запрос (выбираем только 3 колонки)\n",
        "\n",
        "cur.execute('''SELECT Name AS Название,\n",
        "                    City AS Город,\n",
        "                    Count_Stud AS \"Количество студентов\"\n",
        "            FROM Students WHERE Count_Stud > 5000;\n",
        "''')\n",
        "conn.commit()\n",
        "\n",
        "# Результат запроса запишем в список кортежей\n",
        "my_query = [tuple(map(lambda x: x[0], cur.description))]\n",
        "my_query.extend(cur.fetchall())\n",
        "\n",
        "\n",
        "with open('students.csv', mode='w', encoding='utf-8') as w_file:\n",
        "    # Создаем объект writer, указываем символ-разделитель \",\"\n",
        "    file_writer = csv.writer(w_file, delimiter = \",\", lineterminator=\"\\r\")\n",
        "    for string in my_query:\n",
        "        # Записываем в файл соотвествующие строки\n",
        "        file_writer.writerow(string)\n"
      ],
      "metadata": {
        "id": "CFXd3PE6nYJx"
      },
      "execution_count": 7,
      "outputs": []
    },
    {
      "cell_type": "markdown",
      "source": [
        "###Задание 4\n",
        "Создать БД с одной таблицей – Автомобили(Марка, модель, Цвет, Цена). Создать файл csv с такой же структурой. Реализовать программу, которая спрашивает у пользователя соответствующие данные для ввода; эти строки нужно после ввода добавлять в БД и в файл csv. Ввод прекращается, когда пользователь введет слово «Конец»."
      ],
      "metadata": {
        "id": "Fafn1px9xDay"
      }
    },
    {
      "cell_type": "code",
      "source": [
        "# Определяем функцию воода данных пользователем\n",
        "def cars_input():\n",
        "    lst = []\n",
        "    counter = 1\n",
        "    while True:\n",
        "        print(f'Внесение данных по автомобилю номер {counter}')\n",
        "        print('Если ввод завершен, наберите слово \"Конец\"')\n",
        "        brand = input('Введите марку: ')\n",
        "        if brand.lower() == 'конец':\n",
        "           print()\n",
        "           break\n",
        "        model = input('Введите модель: ')\n",
        "        if model.lower() == 'конец':\n",
        "           print()\n",
        "           break\n",
        "        color = input('Введите цвет: ')\n",
        "        if color.lower() == 'конец':\n",
        "           print()\n",
        "           break\n",
        "        while True:\n",
        "            price = input('Введите цену (целое число): ')\n",
        "            if price.lower() == 'конец':\n",
        "                break\n",
        "            if price.isdigit():\n",
        "                break\n",
        "        if price.lower() == 'конец':\n",
        "            print()\n",
        "            break\n",
        "        lst.append((counter, brand, model, color, int(price)))\n",
        "        counter += 1\n",
        "        print()\n",
        "    print('Ввод данных завершён.')\n",
        "    return lst"
      ],
      "metadata": {
        "id": "v28stT6V0cLf"
      },
      "execution_count": 8,
      "outputs": []
    },
    {
      "cell_type": "code",
      "source": [
        "#пользователь вводит данные\n",
        "result = cars_input()"
      ],
      "metadata": {
        "colab": {
          "base_uri": "https://localhost:8080/"
        },
        "id": "PCJ5OrsA-EVg",
        "outputId": "cc5bb6b8-57f9-4f2d-e793-ccbecf1fc01a"
      },
      "execution_count": 9,
      "outputs": [
        {
          "output_type": "stream",
          "name": "stdout",
          "text": [
            "Внесение данных по автомобилю номер 1\n",
            "Если ввод завершен, наберите слово \"Конец\"\n",
            "Введите марку: йцук\n",
            "Введите модель: фыва\n",
            "Введите цвет: ячсм\n",
            "Введите цену (целое число): 1234\n",
            "\n",
            "Внесение данных по автомобилю номер 2\n",
            "Если ввод завершен, наберите слово \"Конец\"\n",
            "Введите марку: ъхзщ\n",
            "Введите модель: эждл\n",
            "Введите цвет: .юбь\n",
            "Введите цену (целое число): 9876\n",
            "\n",
            "Внесение данных по автомобилю номер 3\n",
            "Если ввод завершен, наберите слово \"Конец\"\n",
            "Введите марку: Конец\n",
            "\n",
            "Ввод данных завершён.\n"
          ]
        }
      ]
    },
    {
      "cell_type": "code",
      "source": [
        "# создаем базу данных\n",
        "conn = sqlite3.connect('database.db')\n",
        "cur = conn.cursor()\n",
        "\n",
        "# чистим данные для избежания ошибок\n",
        "cur.execute('DROP TABLE IF EXISTS cars;')\n",
        "conn.commit()\n",
        "\n",
        "# создаем таблицу в соответствии с заданием 4\n",
        "cur.execute('''CREATE TABLE IF NOT EXISTS cars(\n",
        "   ID INT PRIMARY KEY,\n",
        "   brand TEXT,\n",
        "   model TEXT,\n",
        "   color TEXT,\n",
        "   price INTEGER);\n",
        "''')\n",
        "conn.commit()\n",
        "\n",
        "# вносим значения в таблицу\n",
        "cur.executemany('INSERT INTO cars VALUES(?, ?, ?, ?, ?);', result)\n",
        "conn.commit()\n",
        "\n",
        "# проверяем всё ли внесено без ошибок\n",
        "cur.execute('SELECT * FROM cars;')\n",
        "conn.commit()\n",
        "print_table(cur)"
      ],
      "metadata": {
        "colab": {
          "base_uri": "https://localhost:8080/"
        },
        "id": "gdTE82rgxW96",
        "outputId": "1135e72b-7ad2-4a00-be09-64ec6c9bcd7f"
      },
      "execution_count": 10,
      "outputs": [
        {
          "output_type": "stream",
          "name": "stdout",
          "text": [
            "+----+-------+-------+-------+-------+\n",
            "| ID | brand | model | color | price |\n",
            "+----+-------+-------+-------+-------+\n",
            "| 1  |  йцук |  фыва |  ячсм |  1234 |\n",
            "| 2  |  ъхзщ |  эждл |  .юбь |  9876 |\n",
            "+----+-------+-------+-------+-------+\n"
          ]
        }
      ]
    },
    {
      "cell_type": "code",
      "source": [
        "# также записываем таблицу в csv файл\n",
        "with open('cars.csv', mode='w', encoding='utf-8') as w_file:\n",
        "    # Создаем объект writer, указываем символ-разделитель \",\"\n",
        "    file_writer = csv.writer(w_file, delimiter = \",\", lineterminator=\"\\r\")\n",
        "    file_writer.writerow(('ID', 'brand', 'model', 'color', 'price'))\n",
        "    for string in result:\n",
        "        # Записываем в файл соотвествующие строки\n",
        "        file_writer.writerow(string)"
      ],
      "metadata": {
        "id": "VPYRnlAuArA4"
      },
      "execution_count": 11,
      "outputs": []
    },
    {
      "cell_type": "markdown",
      "source": [
        "###Задание 5\n",
        "Для csv-файла реализовать:  \n",
        "* копирование файла в БД только строк, указанных пользователем;\n",
        "* копирование файла в БД, кроме строк, указанных пользователем, но вместо их будет заноситься текст «null»;\n"
      ],
      "metadata": {
        "id": "8P5sUY81CllH"
      }
    },
    {
      "cell_type": "code",
      "source": [
        "def cond_input():\n",
        "    while True:\n",
        "        cond_raw = input('Введите номера строк, которые хотите включить в базу: ')\n",
        "        cond = cond_raw.split()\n",
        "        flag = False\n",
        "        for number in cond:\n",
        "            if not number.isdigit():\n",
        "                flag = True\n",
        "        if flag == False:\n",
        "            cond = [int(i) for i in cond]\n",
        "            return set(cond)\n",
        "        print('Необходимо вводить только целые числа через пробел')\n",
        "\n",
        "def prepare_data_incl(data, tbl, cond):\n",
        "    # готовим список со строками таблицы для внесения в базу данных\n",
        "    rows = []\n",
        "    i = 1\n",
        "    for row in data[1:]:\n",
        "        if i in cond:\n",
        "            rows.append((str(i), ) + row)\n",
        "        i += 1\n",
        "\n",
        "    # подготавливаем текст SQL запроса на внесение данных\n",
        "    num_col = len(data[0]) + 1\n",
        "    qm = ['?'] * num_col\n",
        "    stmt = f'INSERT INTO {tbl} VALUES(' + ', '.join(qm) + ');'\n",
        "\n",
        "    return stmt, rows\n",
        "\n",
        "def prepare_data_not_incl(data, tbl, cond):\n",
        "    # готовим список со строками таблицы для внесения в базу данных\n",
        "    rows = []\n",
        "    i = 1\n",
        "    for row in data[1:]:\n",
        "        if i not in cond:\n",
        "            rows.append((str(i), ) + row)\n",
        "        else:\n",
        "            rows.append((str(i), ) + ('NULL', ) * len(row))\n",
        "        i += 1\n",
        "\n",
        "    # подготавливаем текст SQL запроса на внесение данных\n",
        "    num_col = len(data[0]) + 1\n",
        "    qm = ['?'] * num_col\n",
        "    stmt = f'INSERT INTO {tbl} VALUES(' + ', '.join(qm) + ');'\n",
        "\n",
        "    return stmt, rows\n",
        "\n",
        "def data_transfer_cond(in_name, out_name, table_name, prepare_foo, cond):\n",
        "\n",
        "    data = reading_files(in_name)\n",
        "\n",
        "    # создаем базу данных\n",
        "    conn = sqlite3.connect(out_name)\n",
        "    cur = conn.cursor()\n",
        "\n",
        "    # почистим данные для избежания ошибок\n",
        "    cur.execute(f'DROP TABLE IF EXISTS {table_name};')\n",
        "    conn.commit()\n",
        "\n",
        "    # Таким образом создается таблица с таким же числом колонок как и в csv\n",
        "    # только названия исправляются в соотсветствии с требованиями\n",
        "    cur.execute(prepare_heads(data, table_name))\n",
        "    conn.commit()\n",
        "\n",
        "    # вносим значения в базу данных\n",
        "    cur.executemany(*prepare_foo(data, table_name, cond))\n",
        "    conn.commit()"
      ],
      "metadata": {
        "id": "q_XC6VMJH0io"
      },
      "execution_count": 12,
      "outputs": []
    },
    {
      "cell_type": "code",
      "source": [
        "cond = cond_input()"
      ],
      "metadata": {
        "colab": {
          "base_uri": "https://localhost:8080/"
        },
        "id": "Sq14qzD9Sp_V",
        "outputId": "4545d961-ff04-4b20-ab70-7e8685e7f150"
      },
      "execution_count": 13,
      "outputs": [
        {
          "name": "stdout",
          "output_type": "stream",
          "text": [
            "Введите номера строк, которые хотите включить в базу: 2 5\n"
          ]
        }
      ]
    },
    {
      "cell_type": "code",
      "source": [
        "# Переносим данные, только строки, указанные пользователем\n",
        "data_transfer_cond('addresses.csv', 'database_2.db', 'cars', prepare_data_incl, cond)\n",
        "# Выводим результат задания 5.1\n",
        "print_ascii_table('database_2.db', 'cars')"
      ],
      "metadata": {
        "colab": {
          "base_uri": "https://localhost:8080/"
        },
        "id": "O8Q03JJrHMAw",
        "outputId": "a55fe539-c960-4409-a703-fcc75ffe499a"
      },
      "execution_count": 14,
      "outputs": [
        {
          "output_type": "stream",
          "name": "stdout",
          "text": [
            "+----+-----------------------+--------+---------------------+-------------+-----+--------+\n",
            "| ID |          John         |  Doe   |  _120_jefferson_st_ |  Riverside  |  NJ | _08075 |\n",
            "+----+-----------------------+--------+---------------------+-------------+-----+--------+\n",
            "| 2  |     John \"Da Man\"     | Repici |  120 Jefferson St.  |  Riverside  |  NJ | 08075  |\n",
            "| 5  | Joan \"the bone\", Anne |  Jet   | 9th, at Terrace plc | Desert City |  CO | 00123  |\n",
            "+----+-----------------------+--------+---------------------+-------------+-----+--------+\n"
          ]
        }
      ]
    },
    {
      "cell_type": "code",
      "source": [
        "# Переносим данные, кроме строк, указанных пользователем (заполняем их значением NULL)\n",
        "data_transfer_cond('addresses.csv', 'database_2.db', 'cars', prepare_data_not_incl, cond)\n",
        "# Выводим результат задания 5.2\n",
        "print_ascii_table('database_2.db', 'cars')"
      ],
      "metadata": {
        "colab": {
          "base_uri": "https://localhost:8080/"
        },
        "id": "5BScYMgZTmeA",
        "outputId": "2cefaff2-7dbc-48f0-daa3-1ea9a28849d0"
      },
      "execution_count": 15,
      "outputs": [
        {
          "output_type": "stream",
          "name": "stdout",
          "text": [
            "+----+---------+----------+----------------------------------+-----------+------+--------+\n",
            "| ID |   John  |   Doe    |        _120_jefferson_st_        | Riverside |  NJ  | _08075 |\n",
            "+----+---------+----------+----------------------------------+-----------+------+--------+\n",
            "| 1  |   Jack  | McGinnis |           220 hobo Av.           |   Phila   |  PA  | 09119  |\n",
            "| 2  |   NULL  |   NULL   |               NULL               |    NULL   | NULL |  NULL  |\n",
            "| 3  | Stephen |  Tyler   | 7452 Terrace \"At the Plaza\" road |  SomeTown |  SD  |  91234 |\n",
            "| 4  |         | Blankman |                                  |  SomeTown |  SD  |  00298 |\n",
            "| 5  |   NULL  |   NULL   |               NULL               |    NULL   | NULL |  NULL  |\n",
            "+----+---------+----------+----------------------------------+-----------+------+--------+\n"
          ]
        }
      ]
    }
  ]
}